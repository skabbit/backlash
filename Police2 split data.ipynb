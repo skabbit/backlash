{
 "cells": [
  {
   "cell_type": "code",
   "execution_count": 18,
   "id": "759c5890",
   "metadata": {},
   "outputs": [],
   "source": [
    "import json, os, shutil, tqdm, skimage.draw\n",
    "\n",
    "datasets = [{\n",
    "#     'json_file': \"/Users/skabbit/Downloads/Katya+Sasha.json\",\n",
    "#     'image_folder': \"/Users/skabbit/Projects/backlash/backlash/datasets/usa-police\"\n",
    "# }, {\n",
    "    'json_file': \"/Users/skabbit/Downloads/backlash-auto-1 (3).json\",\n",
    "    'image_folder': \"/Users/skabbit/Downloads/backlash-video-good/\"\n",
    "}]\n",
    "\n",
    "result_folder = \"/Users/skabbit/Downloads/backlash-video-manual-2classes/\"\n",
    "shutil.rmtree(result_folder, ignore_errors=True)\n",
    "os.makedirs(result_folder, exist_ok=True)\n",
    "os.makedirs(os.path.join(result_folder, \"train\"), exist_ok=True)\n",
    "os.makedirs(os.path.join(result_folder, \"val\"), exist_ok=True)\n"
   ]
  },
  {
   "cell_type": "code",
   "execution_count": null,
   "id": "97d16e91",
   "metadata": {},
   "outputs": [
    {
     "name": "stdout",
     "output_type": "stream",
     "text": [
      "Loaded images: 440\n"
     ]
    },
    {
     "name": "stderr",
     "output_type": "stream",
     "text": [
      " 25%|██▌       | 112/440 [01:10<03:07,  1.75it/s]"
     ]
    }
   ],
   "source": [
    "image_list = []\n",
    "\n",
    "for dataset in datasets:\n",
    "    json_file = dataset['json_file']\n",
    "    image_folder = dataset['image_folder'] # or os.path.dirname(json_file)\n",
    "\n",
    "    data = json.load(open(json_file))\n",
    "    if \"_via_img_metadata\" in data:\n",
    "        # switch to project JSON format\n",
    "        data = data['_via_img_metadata'] \n",
    "    print(\"Loaded images:\", len(data))\n",
    "\n",
    "    for key in tqdm.tqdm(list(data.keys())):\n",
    "        regions = data[key]['regions']\n",
    "        \n",
    "        # # filter by category_id==1\n",
    "        # regions = list(filter(lambda x: 'category_id' not in x['region_attributes'] or x['region_attributes']['category_id'] == '1', regions))\n",
    "        \n",
    "        # filter out small regions (mask has less then 1000 pixels)\n",
    "        regions = list(filter(lambda x: len(skimage.draw.polygon(x['shape_attributes']['all_points_y'], x['shape_attributes']['all_points_x'])[0]) > 1000, regions))\n",
    "        \n",
    "        if regions:\n",
    "            data[key]['regions'] = regions\n",
    "            data[key]['path'] = image_folder\n",
    "            image_list.append({key: data[key]})\n",
    "        \n",
    "    print(\"Filtered images:\", len(image_list))\n"
   ]
  },
  {
   "cell_type": "code",
   "execution_count": null,
   "id": "2ff45435",
   "metadata": {},
   "outputs": [],
   "source": [
    "# randomly split image_folder in proportion 7/1\n",
    "import random\n",
    "random.shuffle(image_list)\n",
    "\n",
    "out = {\n",
    "    \"train\": dict(),\n",
    "    \"val\": dict(),\n",
    "}\n",
    "\n",
    "os.makedirs(os.path.join(image_folder, \"train\"), exist_ok=True)\n",
    "os.makedirs(os.path.join(image_folder, \"val\"), exist_ok=True)\n",
    "\n",
    "val_size = int(len(image_list) / 8)\n",
    "\n",
    "for obj in tqdm.tqdm(image_list):\n",
    "    dest = \"val\" if len(out['val']) < val_size else \"train\"\n",
    "    out[dest].update(obj)\n",
    "    filename = list(obj.values())[0]['filename']\n",
    "    path = list(obj.values())[0]['path']\n",
    "    result_filename = os.path.join(result_folder, dest, filename)\n",
    "    if os.path.exists(result_filename):\n",
    "        fn, ext = os.path.splitext(result_filename)\n",
    "        size = os.path.getsize(result_filename)\n",
    "        result_filename = \"%s-%i%s\" % (fn, size, ext)\n",
    "\n",
    "    shutil.copyfile(\n",
    "        os.path.join(image_folder, filename), \n",
    "        result_filename)\n",
    "\n",
    "# create folders train/val\n",
    "\n",
    "print(\"train size:\", len(out['train']))\n",
    "print(\"val size:\", len(out['val']))"
   ]
  },
  {
   "cell_type": "code",
   "execution_count": null,
   "id": "44bc9ff3",
   "metadata": {},
   "outputs": [],
   "source": [
    "for dest in out.keys():\n",
    "    json.dump(\n",
    "        dict(sorted(out[dest].items())), \n",
    "        open(os.path.join(result_folder, dest, \"via_region_data.json\"), \"w\"))\n"
   ]
  },
  {
   "cell_type": "code",
   "execution_count": null,
   "id": "496fe406",
   "metadata": {},
   "outputs": [],
   "source": []
  }
 ],
 "metadata": {
  "kernelspec": {
   "display_name": "Python 3",
   "language": "python",
   "name": "python3"
  },
  "language_info": {
   "codemirror_mode": {
    "name": "ipython",
    "version": 3
   },
   "file_extension": ".py",
   "mimetype": "text/x-python",
   "name": "python",
   "nbconvert_exporter": "python",
   "pygments_lexer": "ipython3",
   "version": "3.6.13"
  }
 },
 "nbformat": 4,
 "nbformat_minor": 5
}
