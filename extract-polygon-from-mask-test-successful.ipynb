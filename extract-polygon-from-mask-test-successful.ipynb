{
 "cells": [
  {
   "cell_type": "code",
   "execution_count": 1,
   "id": "637b6f26",
   "metadata": {},
   "outputs": [
    {
     "name": "stdout",
     "output_type": "stream",
     "text": [
      "[array([[ 0,  0],\n",
      "       [ 0, 99],\n",
      "       [99, 99],\n",
      "       [99,  0]])]\n",
      "[[0, 0, 0, 99, 99, 99, 99, 0]]\n"
     ]
    }
   ],
   "source": [
    "import numpy as np\n",
    "from imantics import Polygons, Mask\n",
    "\n",
    "# This can be any array\n",
    "array = np.ones((100, 100))\n",
    "\n",
    "polygons = Mask(array).polygons()\n",
    "\n",
    "print(polygons.points)\n",
    "print(polygons.segmentation)"
   ]
  },
  {
   "cell_type": "code",
   "execution_count": 2,
   "id": "eeea747d",
   "metadata": {},
   "outputs": [
    {
     "name": "stderr",
     "output_type": "stream",
     "text": [
      "/Users/skabbit/opt/anaconda3/envs/backlash/lib/python3.6/site-packages/tensorflow/python/framework/dtypes.py:516: FutureWarning: Passing (type, 1) or '1type' as a synonym of type is deprecated; in a future version of numpy, it will be understood as (type, (1,)) / '(1,)type'.\n",
      "  _np_qint8 = np.dtype([(\"qint8\", np.int8, 1)])\n",
      "/Users/skabbit/opt/anaconda3/envs/backlash/lib/python3.6/site-packages/tensorflow/python/framework/dtypes.py:517: FutureWarning: Passing (type, 1) or '1type' as a synonym of type is deprecated; in a future version of numpy, it will be understood as (type, (1,)) / '(1,)type'.\n",
      "  _np_quint8 = np.dtype([(\"quint8\", np.uint8, 1)])\n",
      "/Users/skabbit/opt/anaconda3/envs/backlash/lib/python3.6/site-packages/tensorflow/python/framework/dtypes.py:518: FutureWarning: Passing (type, 1) or '1type' as a synonym of type is deprecated; in a future version of numpy, it will be understood as (type, (1,)) / '(1,)type'.\n",
      "  _np_qint16 = np.dtype([(\"qint16\", np.int16, 1)])\n",
      "/Users/skabbit/opt/anaconda3/envs/backlash/lib/python3.6/site-packages/tensorflow/python/framework/dtypes.py:519: FutureWarning: Passing (type, 1) or '1type' as a synonym of type is deprecated; in a future version of numpy, it will be understood as (type, (1,)) / '(1,)type'.\n",
      "  _np_quint16 = np.dtype([(\"quint16\", np.uint16, 1)])\n",
      "/Users/skabbit/opt/anaconda3/envs/backlash/lib/python3.6/site-packages/tensorflow/python/framework/dtypes.py:520: FutureWarning: Passing (type, 1) or '1type' as a synonym of type is deprecated; in a future version of numpy, it will be understood as (type, (1,)) / '(1,)type'.\n",
      "  _np_qint32 = np.dtype([(\"qint32\", np.int32, 1)])\n",
      "/Users/skabbit/opt/anaconda3/envs/backlash/lib/python3.6/site-packages/tensorflow/python/framework/dtypes.py:525: FutureWarning: Passing (type, 1) or '1type' as a synonym of type is deprecated; in a future version of numpy, it will be understood as (type, (1,)) / '(1,)type'.\n",
      "  np_resource = np.dtype([(\"resource\", np.ubyte, 1)])\n",
      "/Users/skabbit/opt/anaconda3/envs/backlash/lib/python3.6/site-packages/tensorboard/compat/tensorflow_stub/dtypes.py:541: FutureWarning: Passing (type, 1) or '1type' as a synonym of type is deprecated; in a future version of numpy, it will be understood as (type, (1,)) / '(1,)type'.\n",
      "  _np_qint8 = np.dtype([(\"qint8\", np.int8, 1)])\n",
      "/Users/skabbit/opt/anaconda3/envs/backlash/lib/python3.6/site-packages/tensorboard/compat/tensorflow_stub/dtypes.py:542: FutureWarning: Passing (type, 1) or '1type' as a synonym of type is deprecated; in a future version of numpy, it will be understood as (type, (1,)) / '(1,)type'.\n",
      "  _np_quint8 = np.dtype([(\"quint8\", np.uint8, 1)])\n",
      "/Users/skabbit/opt/anaconda3/envs/backlash/lib/python3.6/site-packages/tensorboard/compat/tensorflow_stub/dtypes.py:543: FutureWarning: Passing (type, 1) or '1type' as a synonym of type is deprecated; in a future version of numpy, it will be understood as (type, (1,)) / '(1,)type'.\n",
      "  _np_qint16 = np.dtype([(\"qint16\", np.int16, 1)])\n",
      "/Users/skabbit/opt/anaconda3/envs/backlash/lib/python3.6/site-packages/tensorboard/compat/tensorflow_stub/dtypes.py:544: FutureWarning: Passing (type, 1) or '1type' as a synonym of type is deprecated; in a future version of numpy, it will be understood as (type, (1,)) / '(1,)type'.\n",
      "  _np_quint16 = np.dtype([(\"quint16\", np.uint16, 1)])\n",
      "/Users/skabbit/opt/anaconda3/envs/backlash/lib/python3.6/site-packages/tensorboard/compat/tensorflow_stub/dtypes.py:545: FutureWarning: Passing (type, 1) or '1type' as a synonym of type is deprecated; in a future version of numpy, it will be understood as (type, (1,)) / '(1,)type'.\n",
      "  _np_qint32 = np.dtype([(\"qint32\", np.int32, 1)])\n",
      "/Users/skabbit/opt/anaconda3/envs/backlash/lib/python3.6/site-packages/tensorboard/compat/tensorflow_stub/dtypes.py:550: FutureWarning: Passing (type, 1) or '1type' as a synonym of type is deprecated; in a future version of numpy, it will be understood as (type, (1,)) / '(1,)type'.\n",
      "  np_resource = np.dtype([(\"resource\", np.ubyte, 1)])\n",
      "Using TensorFlow backend.\n"
     ]
    },
    {
     "name": "stdout",
     "output_type": "stream",
     "text": [
      "WARNING:tensorflow:From /Users/skabbit/opt/anaconda3/envs/backlash/lib/python3.6/site-packages/keras/backend/tensorflow_backend.py:492: The name tf.placeholder is deprecated. Please use tf.compat.v1.placeholder instead.\n",
      "\n",
      "WARNING:tensorflow:From /Users/skabbit/opt/anaconda3/envs/backlash/lib/python3.6/site-packages/keras/backend/tensorflow_backend.py:63: The name tf.get_default_graph is deprecated. Please use tf.compat.v1.get_default_graph instead.\n",
      "\n",
      "WARNING:tensorflow:From /Users/skabbit/opt/anaconda3/envs/backlash/lib/python3.6/site-packages/keras/backend/tensorflow_backend.py:3630: The name tf.random_uniform is deprecated. Please use tf.random.uniform instead.\n",
      "\n",
      "WARNING:tensorflow:From /Users/skabbit/opt/anaconda3/envs/backlash/lib/python3.6/site-packages/keras/backend/tensorflow_backend.py:3458: The name tf.nn.max_pool is deprecated. Please use tf.nn.max_pool2d instead.\n",
      "\n",
      "WARNING:tensorflow:From /Users/skabbit/opt/anaconda3/envs/backlash/lib/python3.6/site-packages/keras/backend/tensorflow_backend.py:1822: The name tf.image.resize_nearest_neighbor is deprecated. Please use tf.compat.v1.image.resize_nearest_neighbor instead.\n",
      "\n",
      "WARNING:tensorflow:From /Users/skabbit/opt/anaconda3/envs/backlash/lib/python3.6/site-packages/keras/backend/tensorflow_backend.py:1208: calling reduce_max_v1 (from tensorflow.python.ops.math_ops) with keep_dims is deprecated and will be removed in a future version.\n",
      "Instructions for updating:\n",
      "keep_dims is deprecated, use keepdims instead\n",
      "WARNING:tensorflow:From /Users/skabbit/opt/anaconda3/envs/backlash/lib/python3.6/site-packages/keras/backend/tensorflow_backend.py:1242: calling reduce_sum_v1 (from tensorflow.python.ops.math_ops) with keep_dims is deprecated and will be removed in a future version.\n",
      "Instructions for updating:\n",
      "keep_dims is deprecated, use keepdims instead\n",
      "WARNING:tensorflow:From /Users/skabbit/Projects/backlash/backlash/mrcnn/model.py:341: The name tf.log is deprecated. Please use tf.math.log instead.\n",
      "\n",
      "WARNING:tensorflow:From /Users/skabbit/Projects/backlash/backlash/mrcnn/model.py:399: add_dispatch_support.<locals>.wrapper (from tensorflow.python.ops.array_ops) is deprecated and will be removed in a future version.\n",
      "Instructions for updating:\n",
      "Use tf.where in 2.0, which has the same broadcast rule as np.where\n",
      "WARNING:tensorflow:From /Users/skabbit/Projects/backlash/backlash/mrcnn/model.py:423: calling crop_and_resize_v1 (from tensorflow.python.ops.image_ops_impl) with box_ind is deprecated and will be removed in a future version.\n",
      "Instructions for updating:\n",
      "box_ind is deprecated, use box_indices instead\n",
      "WARNING:tensorflow:From /Users/skabbit/Projects/backlash/backlash/mrcnn/model.py:720: The name tf.sets.set_intersection is deprecated. Please use tf.sets.intersection instead.\n",
      "\n",
      "WARNING:tensorflow:From /Users/skabbit/Projects/backlash/backlash/mrcnn/model.py:722: The name tf.sparse_tensor_to_dense is deprecated. Please use tf.sparse.to_dense instead.\n",
      "\n",
      "WARNING:tensorflow:From /Users/skabbit/Projects/backlash/backlash/mrcnn/model.py:772: to_float (from tensorflow.python.ops.math_ops) is deprecated and will be removed in a future version.\n",
      "Instructions for updating:\n",
      "Use `tf.cast` instead.\n"
     ]
    }
   ],
   "source": [
    "import os\n",
    "import sys\n",
    "\n",
    "import numpy as np\n",
    "\n",
    "# Root directory of the project\n",
    "from PIL import Image\n",
    "\n",
    "ROOT_DIR = os.path.abspath(\".\")\n",
    "\n",
    "from mrcnn import utils\n",
    "import mrcnn.model as modellib\n",
    "from mrcnn import visualize\n",
    "import skimage.io\n",
    "\n",
    "# Directory to save logs and trained model\n",
    "MODEL_DIR = os.path.join(ROOT_DIR, \"logs\")\n",
    "\n",
    "# Directory of images to run detection on\n",
    "IMAGE_DIR = os.path.join(ROOT_DIR, \"images\")\n",
    "\n",
    "import samples.coco.coco as coco\n",
    "import samples.police2.backlash as backlash\n",
    "\n",
    "\n",
    "class MaskRCNNModel():\n",
    "    MODEL_FILE_NAME = \"mask_rcnn_coco.h5\"\n",
    "    CLASSES = ['BG', 'person', 'bicycle', 'car', 'motorcycle', 'airplane',\n",
    "               'bus', 'train', 'truck', 'boat', 'traffic light',\n",
    "               'fire hydrant', 'stop sign', 'parking meter', 'bench', 'bird',\n",
    "               'cat', 'dog', 'horse', 'sheep', 'cow', 'elephant', 'bear',\n",
    "               'zebra', 'giraffe', 'backpack', 'umbrella', 'handbag', 'tie',\n",
    "               'suitcase', 'frisbee', 'skis', 'snowboard', 'sports ball',\n",
    "               'kite', 'baseball bat', 'baseball glove', 'skateboard',\n",
    "               'surfboard', 'tennis racket', 'bottle', 'wine glass', 'cup',\n",
    "               'fork', 'knife', 'spoon', 'bowl', 'banana', 'apple',\n",
    "               'sandwich', 'orange', 'broccoli', 'carrot', 'hot dog', 'pizza',\n",
    "               'donut', 'cake', 'chair', 'couch', 'potted plant', 'bed',\n",
    "               'dining table', 'toilet', 'tv', 'laptop', 'mouse', 'remote',\n",
    "               'keyboard', 'cell phone', 'microwave', 'oven', 'toaster',\n",
    "               'sink', 'refrigerator', 'book', 'clock', 'vase', 'scissors',\n",
    "               'teddy bear', 'hair drier', 'toothbrush']\n",
    "\n",
    "    CONFIG_CLASS = coco.CocoConfig\n",
    "\n",
    "    def __init__(self):\n",
    "        # Local path to trained weights file\n",
    "        COCO_MODEL_PATH = os.path.join(ROOT_DIR, self.MODEL_FILE_NAME)\n",
    "\n",
    "        # Download COCO trained weights from Releases if needed\n",
    "        if not os.path.exists(COCO_MODEL_PATH):\n",
    "            utils.download_trained_weights(COCO_MODEL_PATH)\n",
    "\n",
    "        class InferenceConfig(self.CONFIG_CLASS):\n",
    "            # Set batch size to 1 since we'll be running inference on\n",
    "            # one image at a time. Batch size = GPU_COUNT * IMAGES_PER_GPU\n",
    "            GPU_COUNT = 1\n",
    "            IMAGES_PER_GPU = 1\n",
    "            NUM_CLASSES = len(self.CLASSES)  # COCO has 80 classes\n",
    "\n",
    "        self.config = InferenceConfig()\n",
    "        #         config.display()\n",
    "\n",
    "        # Create model object in inference mode.\n",
    "        model = modellib.MaskRCNN(mode=\"inference\", model_dir=MODEL_DIR, config=self.config)\n",
    "\n",
    "        # Load weights\n",
    "        model.load_weights(COCO_MODEL_PATH, by_name=True)\n",
    "\n",
    "        # COCO Class names\n",
    "        # Index of the class in the list is its ID. For example, to get ID of\n",
    "        # the teddy bear class, use: class_names.index('teddy bear')\n",
    "        class_names = self.CLASSES\n",
    "\n",
    "        self.model = model\n",
    "\n",
    "model_full = MaskRCNNModel()\n"
   ]
  },
  {
   "cell_type": "code",
   "execution_count": null,
   "id": "ce2f2d90",
   "metadata": {},
   "outputs": [],
   "source": [
    "image = skimage.io.imread(\"images/no-cops-test.jpg\")\n",
    "results = model_full.model.detect([image], verbose=1)"
   ]
  },
  {
   "cell_type": "code",
   "execution_count": 7,
   "id": "b03a036b",
   "metadata": {},
   "outputs": [
    {
     "data": {
      "text/plain": [
       "(2787, 3716)"
      ]
     },
     "execution_count": 7,
     "metadata": {},
     "output_type": "execute_result"
    }
   ],
   "source": [
    "results[0]['masks'][:,:,0].shape"
   ]
  },
  {
   "cell_type": "code",
   "execution_count": 49,
   "id": "5d10be12",
   "metadata": {},
   "outputs": [
    {
     "data": {
      "text/plain": [
       "array([ 1,  1,  1,  1,  1,  1,  1,  1,  1,  1,  1,  1,  1,  1,  1,  1,  1,\n",
       "        1,  1,  1,  1,  1,  1,  1,  1,  1,  1,  1,  1,  1,  1, 26,  1,  1,\n",
       "        1,  1,  1,  1,  1,  1,  1,  1,  1,  1, 34,  1,  1,  1,  1,  1,  1,\n",
       "        1], dtype=int32)"
      ]
     },
     "execution_count": 49,
     "metadata": {},
     "output_type": "execute_result"
    }
   ],
   "source": [
    "results[0]['class_ids']"
   ]
  },
  {
   "cell_type": "code",
   "execution_count": 50,
   "id": "45d2434f",
   "metadata": {},
   "outputs": [],
   "source": [
    "masks = results[0]['masks'][:,:,results[0]['class_ids'] == 1]"
   ]
  },
  {
   "cell_type": "code",
   "execution_count": 46,
   "id": "88907a9a",
   "metadata": {},
   "outputs": [
    {
     "data": {
      "text/plain": [
       "<matplotlib.image.AxesImage at 0x188862cf8>"
      ]
     },
     "execution_count": 46,
     "metadata": {},
     "output_type": "execute_result"
    },
    {
     "data": {
      "image/png": "[encoded data removed]",
      "text/plain": [
       "<Figure size 432x288 with 1 Axes>"
      ]
     },
     "metadata": {
      "needs_background": "light"
     },
     "output_type": "display_data"
    }
   ],
   "source": [
    "import matplotlib.pyplot as plt\n",
    "\n",
    "plt.imshow(masks[:,:,6].astype(np.uint8))"
   ]
  },
  {
   "cell_type": "code",
   "execution_count": 11,
   "id": "f8b59ed7",
   "metadata": {},
   "outputs": [
    {
     "name": "stdout",
     "output_type": "stream",
     "text": [
      "[array([[1037, 2351],\n",
      "       [1036, 2352],\n",
      "       [1031, 2352],\n",
      "       ...,\n",
      "       [1053, 2352],\n",
      "       [1047, 2352],\n",
      "       [1046, 2351]])]\n"
     ]
    }
   ],
   "source": [
    "polygons = Mask(results[0]['masks'][:,:,0]).polygons()\n",
    "\n",
    "print(polygons.points)\n",
    "# print(polygons.segmentation)\n"
   ]
  },
  {
   "cell_type": "code",
   "execution_count": 12,
   "id": "5fd042b1",
   "metadata": {},
   "outputs": [
    {
     "data": {
      "text/plain": [
       "['INSTANCE_TYPES',\n",
       " '__class__',\n",
       " '__delattr__',\n",
       " '__dict__',\n",
       " '__dir__',\n",
       " '__doc__',\n",
       " '__eq__',\n",
       " '__format__',\n",
       " '__ge__',\n",
       " '__getattribute__',\n",
       " '__getitem__',\n",
       " '__gt__',\n",
       " '__hash__',\n",
       " '__init__',\n",
       " '__init_subclass__',\n",
       " '__le__',\n",
       " '__lt__',\n",
       " '__module__',\n",
       " '__ne__',\n",
       " '__new__',\n",
       " '__reduce__',\n",
       " '__reduce_ex__',\n",
       " '__repr__',\n",
       " '__setattr__',\n",
       " '__sizeof__',\n",
       " '__str__',\n",
       " '__subclasshook__',\n",
       " '__weakref__',\n",
       " '_c_bbox',\n",
       " '_c_mask',\n",
       " '_c_points',\n",
       " '_c_segmentation',\n",
       " 'bbox',\n",
       " 'create',\n",
       " 'draw',\n",
       " 'from_bbox',\n",
       " 'from_mask',\n",
       " 'mask',\n",
       " 'points',\n",
       " 'polygons',\n",
       " 'segmentation',\n",
       " 'simplify']"
      ]
     },
     "execution_count": 12,
     "metadata": {},
     "output_type": "execute_result"
    }
   ],
   "source": [
    "dir(polygons)"
   ]
  },
  {
   "cell_type": "code",
   "execution_count": 55,
   "id": "cd7cfb24",
   "metadata": {},
   "outputs": [
    {
     "name": "stdout",
     "output_type": "stream",
     "text": [
      "625\n",
      "None\n",
      "625\n",
      "None\n",
      "625\n",
      "None\n",
      "625\n",
      "None\n",
      "625\n",
      "None\n"
     ]
    }
   ],
   "source": [
    "for i in range(5):\n",
    "    print(len(polygons.points[0]))\n",
    "    print(polygons.simplify())\n",
    "    "
   ]
  },
  {
   "cell_type": "code",
   "execution_count": 28,
   "id": "8e73de14",
   "metadata": {},
   "outputs": [],
   "source": [
    "shape_attributes = {                        \n",
    "    \"all_points_x\": [],\n",
    "    \"all_points_y\": []\n",
    "}\n",
    "for point in polygons.points[0]:\n",
    "    shape_attributes['all_points_x'].append(int(point[0]))\n",
    "    shape_attributes['all_points_y'].append(int(point[1]))"
   ]
  },
  {
   "cell_type": "code",
   "execution_count": 59,
   "id": "209ba25c",
   "metadata": {},
   "outputs": [
    {
     "data": {
      "text/plain": [
       "'backlash-video-good'"
      ]
     },
     "execution_count": 59,
     "metadata": {},
     "output_type": "execute_result"
    }
   ],
   "source": [
    "os.path.split(\"/Users/skabbit/Downloads/backlash-video-good\")[1]"
   ]
  },
  {
   "cell_type": "code",
   "execution_count": 29,
   "id": "dac78b48",
   "metadata": {},
   "outputs": [
    {
     "data": {
      "text/plain": [
       "'{\"all_points_x\": [1037, 1036, 1031, 1030, 1025, 1024, 1023, 1021, 1020, 1019, 1018, 1017, 1016, 1015, 1013, 1012, 1010, 1009, 1007, 1006, 1002, 1001, 997, 996, 992, 991, 987, 986, 985, 984, 982, 981, 980, 979, 978, 977, 976, 975, 974, 972, 971, 969, 968, 967, 966, 965, 964, 963, 962, 961, 960, 959, 958, 957, 956, 955, 954, 953, 952, 941, 940, 938, 937, 935, 934, 931, 930, 927, 927, 926, 926, 925, 925, 924, 924, 923, 923, 922, 922, 921, 921, 920, 920, 919, 919, 918, 918, 916, 916, 915, 915, 914, 914, 913, 913, 912, 912, 911, 911, 912, 912, 913, 913, 914, 914, 915, 915, 916, 916, 917, 917, 918, 918, 919, 919, 920, 920, 921, 921, 922, 922, 923, 923, 924, 924, 925, 925, 926, 926, 927, 927, 928, 928, 929, 929, 930, 930, 931, 931, 932, 932, 934, 934, 933, 933, 932, 932, 931, 931, 930, 930, 929, 929, 928, 928, 921, 920, 918, 917, 916, 915, 914, 912, 911, 910, 909, 908, 907, 906, 905, 904, 903, 902, 901, 900, 898, 897, 895, 894, 893, 892, 890, 889, 888, 887, 886, 885, 883, 882, 881, 880, 879, 878, 877, 876, 874, 873, 871, 870, 869, 868, 867, 866, 865, 864, 863, 862, 861, 860, 858, 857, 854, 853, 846, 845, 843, 842, 839, 838, 835, 834, 829, 828, 823, 823, 819, 819, 816, 816, 815, 815, 814, 814, 813, 813, 812, 812, 811, 811, 810, 810, 809, 809, 810, 810, 811, 811, 812, 812, 813, 813, 814, 814, 815, 815, 817, 817, 819, 819, 821, 821, 824, 824, 838, 838, 844, 845, 847, 848, 850, 851, 852, 853, 855, 856, 857, 858, 860, 861, 862, 863, 864, 866, 867, 870, 871, 876, 877, 884, 885, 904, 905, 939, 940, 950, 951, 987, 988, 989, 1024, 1025, 1039, 1040, 1058, 1059, 1066, 1067, 1074, 1075, 1078, 1079, 1084, 1085, 1089, 1090, 1099, 1100, 1149, 1150, 1154, 1155, 1157, 1158, 1161, 1162, 1164, 1165, 1173, 1174, 1184, 1185, 1188, 1189, 1192, 1193, 1196, 1197, 1199, 1200, 1205, 1206, 1211, 1212, 1217, 1218, 1220, 1222, 1223, 1225, 1226, 1227, 1228, 1229, 1230, 1231, 1232, 1233, 1234, 1235, 1244, 1245, 1256, 1258, 1259, 1263, 1264, 1267, 1267, 1268, 1268, 1269, 1269, 1268, 1268, 1267, 1267, 1266, 1266, 1265, 1265, 1264, 1264, 1263, 1263, 1262, 1262, 1261, 1261, 1260, 1260, 1259, 1259, 1258, 1258, 1257, 1257, 1256, 1256, 1255, 1254, 1253, 1251, 1250, 1248, 1247, 1245, 1244, 1242, 1241, 1239, 1238, 1236, 1235, 1234, 1233, 1232, 1231, 1230, 1228, 1227, 1222, 1221, 1220, 1219, 1218, 1217, 1216, 1215, 1214, 1212, 1211, 1210, 1209, 1208, 1207, 1205, 1204, 1203, 1202, 1201, 1198, 1197, 1195, 1195, 1193, 1192, 1189, 1188, 1186, 1185, 1184, 1183, 1182, 1181, 1180, 1179, 1178, 1176, 1174, 1173, 1172, 1171, 1170, 1169, 1166, 1165, 1163, 1162, 1159, 1158, 1153, 1152, 1147, 1146, 1145, 1144, 1143, 1142, 1141, 1140, 1139, 1138, 1137, 1135, 1134, 1133, 1132, 1131, 1122, 1122, 1121, 1121, 1120, 1120, 1121, 1121, 1122, 1122, 1123, 1123, 1124, 1124, 1125, 1125, 1126, 1126, 1127, 1127, 1128, 1128, 1129, 1129, 1131, 1131, 1133, 1133, 1134, 1134, 1135, 1135, 1136, 1136, 1137, 1137, 1138, 1138, 1139, 1139, 1140, 1140, 1141, 1141, 1142, 1142, 1143, 1143, 1144, 1144, 1145, 1145, 1146, 1146, 1147, 1147, 1148, 1148, 1147, 1147, 1146, 1146, 1145, 1145, 1144, 1144, 1143, 1143, 1142, 1142, 1141, 1141, 1140, 1140, 1139, 1139, 1138, 1138, 1137, 1137, 1136, 1136, 1132, 1131, 1129, 1128, 1126, 1125, 1124, 1123, 1121, 1120, 1118, 1117, 1116, 1115, 1113, 1112, 1111, 1110, 1109, 1108, 1106, 1105, 1104, 1103, 1102, 1101, 1100, 1099, 1098, 1096, 1095, 1094, 1093, 1090, 1089, 1087, 1086, 1083, 1082, 1080, 1079, 1075, 1074, 1071, 1070, 1067, 1066, 1064, 1063, 1061, 1060, 1054, 1053, 1047, 1046], \"all_points_y\": [2351, 2352, 2352, 2353, 2353, 2354, 2354, 2356, 2356, 2357, 2357, 2358, 2358, 2359, 2359, 2360, 2360, 2361, 2361, 2362, 2362, 2363, 2363, 2364, 2364, 2365, 2365, 2366, 2366, 2367, 2367, 2368, 2368, 2369, 2369, 2370, 2370, 2371, 2371, 2373, 2373, 2375, 2375, 2376, 2376, 2377, 2377, 2378, 2378, 2379, 2379, 2380, 2380, 2381, 2381, 2382, 2382, 2383, 2383, 2394, 2394, 2396, 2396, 2398, 2398, 2401, 2401, 2404, 2405, 2406, 2408, 2409, 2410, 2411, 2413, 2414, 2415, 2416, 2417, 2418, 2420, 2421, 2422, 2423, 2424, 2425, 2426, 2428, 2429, 2430, 2432, 2433, 2434, 2435, 2437, 2438, 2448, 2449, 2474, 2475, 2486, 2487, 2489, 2490, 2492, 2493, 2495, 2496, 2498, 2499, 2500, 2501, 2505, 2506, 2510, 2511, 2515, 2516, 2520, 2521, 2524, 2525, 2528, 2529, 2533, 2534, 2541, 2542, 2550, 2551, 2553, 2554, 2555, 2556, 2558, 2559, 2560, 2561, 2562, 2563, 2564, 2566, 2567, 2568, 2580, 2581, 2585, 2586, 2589, 2590, 2593, 2594, 2596, 2597, 2598, 2605, 2605, 2607, 2607, 2608, 2608, 2609, 2609, 2610, 2610, 2611, 2611, 2612, 2612, 2613, 2613, 2614, 2614, 2615, 2615, 2617, 2617, 2619, 2619, 2620, 2620, 2622, 2622, 2623, 2623, 2624, 2624, 2626, 2626, 2627, 2627, 2628, 2628, 2629, 2629, 2631, 2631, 2633, 2633, 2634, 2634, 2635, 2635, 2636, 2636, 2637, 2637, 2638, 2638, 2640, 2640, 2643, 2643, 2650, 2650, 2652, 2652, 2655, 2655, 2658, 2658, 2663, 2663, 2668, 2669, 2673, 2674, 2677, 2678, 2679, 2680, 2681, 2682, 2683, 2685, 2686, 2687, 2688, 2690, 2691, 2692, 2693, 2713, 2714, 2716, 2717, 2718, 2719, 2721, 2722, 2724, 2725, 2726, 2727, 2729, 2731, 2732, 2734, 2735, 2737, 2738, 2741, 2742, 2756, 2757, 2763, 2763, 2765, 2765, 2767, 2767, 2768, 2768, 2770, 2770, 2771, 2771, 2773, 2773, 2774, 2774, 2775, 2775, 2776, 2776, 2777, 2777, 2778, 2778, 2779, 2779, 2780, 2780, 2779, 2779, 2778, 2778, 2779, 2778, 2778, 2777, 2777, 2776, 2776, 2775, 2775, 2774, 2774, 2773, 2773, 2774, 2774, 2775, 2775, 2776, 2776, 2777, 2777, 2776, 2776, 2775, 2775, 2774, 2774, 2773, 2773, 2772, 2772, 2771, 2771, 2770, 2770, 2769, 2769, 2768, 2768, 2767, 2767, 2766, 2766, 2765, 2765, 2764, 2764, 2763, 2763, 2761, 2761, 2759, 2759, 2758, 2758, 2757, 2757, 2756, 2756, 2755, 2755, 2754, 2754, 2753, 2753, 2751, 2751, 2747, 2747, 2744, 2693, 2692, 2686, 2685, 2671, 2670, 2663, 2662, 2660, 2659, 2657, 2656, 2654, 2653, 2652, 2651, 2649, 2648, 2647, 2646, 2644, 2643, 2642, 2641, 2639, 2638, 2636, 2635, 2633, 2632, 2631, 2630, 2630, 2629, 2629, 2628, 2628, 2627, 2627, 2626, 2626, 2625, 2625, 2624, 2624, 2623, 2623, 2622, 2622, 2621, 2621, 2619, 2619, 2614, 2614, 2613, 2613, 2612, 2612, 2611, 2611, 2610, 2610, 2609, 2609, 2608, 2608, 2607, 2607, 2606, 2606, 2605, 2605, 2602, 2602, 2600, 2599, 2597, 2597, 2594, 2594, 2592, 2592, 2591, 2591, 2590, 2590, 2589, 2589, 2588, 2588, 2586, 2586, 2585, 2585, 2584, 2584, 2581, 2581, 2579, 2579, 2576, 2576, 2571, 2571, 2566, 2566, 2565, 2565, 2564, 2564, 2563, 2563, 2562, 2562, 2561, 2561, 2560, 2560, 2559, 2559, 2550, 2544, 2543, 2537, 2536, 2533, 2532, 2530, 2529, 2527, 2526, 2523, 2522, 2519, 2518, 2514, 2513, 2509, 2508, 2504, 2503, 2501, 2500, 2498, 2496, 2495, 2493, 2492, 2491, 2490, 2489, 2488, 2487, 2486, 2485, 2482, 2481, 2479, 2478, 2475, 2474, 2471, 2470, 2467, 2466, 2462, 2461, 2456, 2455, 2451, 2450, 2446, 2445, 2442, 2441, 2436, 2435, 2419, 2418, 2416, 2415, 2413, 2412, 2409, 2408, 2406, 2405, 2403, 2402, 2401, 2400, 2398, 2397, 2396, 2395, 2394, 2393, 2392, 2391, 2390, 2389, 2388, 2384, 2384, 2382, 2382, 2380, 2380, 2379, 2379, 2377, 2377, 2375, 2375, 2374, 2374, 2372, 2372, 2371, 2371, 2370, 2370, 2368, 2368, 2367, 2367, 2366, 2366, 2365, 2365, 2364, 2364, 2363, 2363, 2362, 2362, 2361, 2361, 2360, 2360, 2359, 2359, 2358, 2358, 2357, 2357, 2356, 2356, 2355, 2355, 2354, 2354, 2353, 2353, 2352, 2352, 2351]}'"
      ]
     },
     "execution_count": 29,
     "metadata": {},
     "output_type": "execute_result"
    }
   ],
   "source": [
    "import json\n",
    "json.dumps(shape_attributes)"
   ]
  },
  {
   "cell_type": "code",
   "execution_count": null,
   "id": "3732896c",
   "metadata": {},
   "outputs": [],
   "source": []
  }
 ],
 "metadata": {
  "kernelspec": {
   "display_name": "Python 3",
   "language": "python",
   "name": "python3"
  },
  "language_info": {
   "codemirror_mode": {
    "name": "ipython",
    "version": 3
   },
   "file_extension": ".py",
   "mimetype": "text/x-python",
   "name": "python",
   "nbconvert_exporter": "python",
   "pygments_lexer": "ipython3",
   "version": "3.6.13"
  }
 },
 "nbformat": 4,
 "nbformat_minor": 5
}
